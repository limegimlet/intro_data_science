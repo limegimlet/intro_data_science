{
 "cells": [
  {
   "cell_type": "code",
   "execution_count": 2,
   "metadata": {
    "collapsed": false
   },
   "outputs": [],
   "source": [
    "import numpy as np\n",
    "import pandas as pd\n",
    "import statsmodels.api as sm\n",
    "from ggplot import *\n"
   ]
  },
  {
   "cell_type": "code",
   "execution_count": 3,
   "metadata": {
    "collapsed": false
   },
   "outputs": [],
   "source": [
    "#create dataframe\n",
    "turnstile_weather = pd.read_csv('~/Documents/ds_nanodegree/intro_to_ds_downloads/turnstile_weather_v2.csv')\n",
    "\n"
   ]
  },
  {
   "cell_type": "code",
   "execution_count": 4,
   "metadata": {
    "collapsed": false,
    "scrolled": false
   },
   "outputs": [],
   "source": [
    "def normalize_features(features):\n",
    "    ''' \n",
    "    Returns the means and standard deviations of the given features, along with a normalized feature\n",
    "    matrix.\n",
    "    ''' \n",
    "    means = np.mean(features, axis=0)\n",
    "    std_devs = np.std(features, axis=0)\n",
    "    normalized_features = (features - means) / std_devs\n",
    "    \n",
    "    #return means, std_devs, normalized_features\n",
    "    return normalized_features\n",
    "\n",
    "\n",
    "\n",
    "def linear_regression(features, values):\n",
    "    \"\"\"\n",
    "    Perform linear regression given a data set with an arbitrary number of features.\n",
    "    \n",
    "    This can be the same code as in the lesson #3 exercise.\n",
    "    \"\"\"\n",
    "    \n",
    "    features = sm.add_constant(features)\n",
    "    model = sm.OLS(values,features)\n",
    "    results = model.fit()\n",
    "    params = results.params[1:]\n",
    "    intercept = results.params[0]\n",
    "    \n",
    "    #return intercept, params\n",
    "    return intercept, params\n",
    "    \n",
    "    #return summary\n",
    "    #return model.fit().summary()\n",
    "    \n",
    "    #return various measures can be extracted from results\n",
    "    #return results.mse_resid\n",
    "\n",
    "\n",
    "def predictions(dataframe): \n",
    "    \n",
    "    '''Before using this, fix the linear_regression function above\n",
    "       so it returns const & params, instead of OLS summary'''\n",
    "    \n",
    "    #define input variables\n",
    "    features = dataframe[['tempi']]\n",
    "\n",
    "    #add dummy vars\n",
    "    dummy_units = pd.get_dummies(dataframe['UNIT'], prefix='unit')\n",
    "    dummy_day_week = pd.get_dummies(dataframe['day_week'], prefix='day')\n",
    "    dummy_hours = pd.get_dummies(dataframe['hour'], prefix='hour')\n",
    "\n",
    "    features = features.join([dummy_units,dummy_hours, dummy_day_week])\n",
    "\n",
    "    #normalize\n",
    "    features = normalize_features(features)\n",
    "\n",
    "    #drop a unit to fix multicollinearity\n",
    "    features.drop(['unit_R022','hour_0','day_0'],axis=1,inplace=True)\n",
    "        \n",
    "    # Values\n",
    "    values = dataframe['ENTRIESn_hourly']\n",
    "\n",
    "    # Perform linear regression\n",
    "    intercept, params = linear_regression(features, values)\n",
    "    \n",
    "    predictions = intercept + np.dot(features, params)\n",
    "    return predictions\n",
    "\n"
   ]
  },
  {
   "cell_type": "code",
   "execution_count": 8,
   "metadata": {
    "collapsed": false
   },
   "outputs": [
    {
     "data": {
      "text/plain": [
       "0.54526423980394689"
      ]
     },
     "execution_count": 8,
     "metadata": {},
     "output_type": "execute_result"
    }
   ],
   "source": [
    "# R-squared\n",
    "\n",
    "#For this to work, first you need to uncomment \n",
    "#the correct return statement in the linear_regression function.\n",
    "#Then unmcomment the below.\n",
    "\n",
    "def compute_r_squared(data, predictions):\n",
    "\n",
    "    accuracy = ((data - predictions)**2).sum()\n",
    "    var = ((data - data.mean())**2).sum()\n",
    "    r_squared = 1 - (accuracy/var)\n",
    "    \n",
    "    return r_squared\n",
    "\n",
    "compute_r_squared(turnstile_weather['ENTRIESn_hourly'], predictions(turnstile_weather))"
   ]
  },
  {
   "cell_type": "code",
   "execution_count": 5,
   "metadata": {
    "collapsed": false
   },
   "outputs": [
    {
     "data": {
      "text/plain": [
       "(1886.5899552157894, tempi       -119.839284\n",
       " unit_R003   -591.232124\n",
       " unit_R004   -580.222090\n",
       " unit_R005   -576.140015\n",
       " unit_R006   -577.801795\n",
       " unit_R007   -584.554580\n",
       " unit_R008   -582.974118\n",
       " unit_R009   -593.090467\n",
       " unit_R011   -143.272944\n",
       " unit_R012    -54.951533\n",
       " unit_R013   -457.014230\n",
       " unit_R016   -574.094613\n",
       " unit_R017   -350.594038\n",
       " unit_R018   -114.802929\n",
       " unit_R019   -414.142931\n",
       " unit_R020   -207.199978\n",
       " unit_R021   -316.850653\n",
       " unit_R023   -221.725236\n",
       " unit_R024   -415.542622\n",
       " unit_R025   -275.968045\n",
       " unit_R027   -431.638249\n",
       " unit_R029   -150.795211\n",
       " unit_R030   -422.929116\n",
       " unit_R031   -340.443716\n",
       " unit_R032   -333.312983\n",
       " unit_R033    -84.572432\n",
       " unit_R034   -529.323596\n",
       " unit_R035   -440.508981\n",
       " unit_R036   -565.843140\n",
       " unit_R037   -567.235134\n",
       "                 ...    \n",
       " unit_R345   -578.402098\n",
       " unit_R346   -526.864790\n",
       " unit_R348   -599.536464\n",
       " unit_R354   -585.398391\n",
       " unit_R356   -540.536048\n",
       " unit_R358   -583.245742\n",
       " unit_R370   -579.595346\n",
       " unit_R371   -559.252438\n",
       " unit_R372   -555.444216\n",
       " unit_R373   -557.098303\n",
       " unit_R382   -555.368489\n",
       " unit_R424   -570.609025\n",
       " unit_R429   -556.423704\n",
       " unit_R453   -477.285200\n",
       " unit_R454   -589.461058\n",
       " unit_R455   -594.641932\n",
       " unit_R456   -598.266671\n",
       " unit_R459   -430.149927\n",
       " unit_R464   -607.431689\n",
       " hour_4      -420.112242\n",
       " hour_8      -270.213298\n",
       " hour_12      647.032874\n",
       " hour_16      378.292074\n",
       " hour_20      702.032701\n",
       " day_1        151.396944\n",
       " day_2        137.562050\n",
       " day_3        145.482055\n",
       " day_4        132.909099\n",
       " day_5       -163.503496\n",
       " day_6       -309.171070\n",
       " dtype: float64)"
      ]
     },
     "execution_count": 5,
     "metadata": {},
     "output_type": "execute_result"
    }
   ],
   "source": [
    "#OLS summary\n",
    "#TODO: remove duplication of \"features\"\n",
    "\n",
    "#define input variables\n",
    "features = turnstile_weather[['tempi']]\n",
    "\n",
    "#add dummy vars\n",
    "dummy_units = pd.get_dummies(turnstile_weather['UNIT'], prefix='unit')\n",
    "dummy_day_week = pd.get_dummies(turnstile_weather['day_week'], prefix='day')\n",
    "dummy_hours = pd.get_dummies(turnstile_weather['hour'], prefix='hour')\n",
    "\n",
    "features = features.join([dummy_units,dummy_hours, dummy_day_week])\n",
    "\n",
    "#normalize\n",
    "features = normalize_features(features)\n",
    "\n",
    "#drop a unit to fix multicollinearity\n",
    "features.drop(['unit_R022','hour_0','day_0'],axis=1,inplace=True)\n",
    "        \n",
    "# Values\n",
    "values = turnstile_weather['ENTRIESn_hourly']\n",
    "\n",
    "#can switch this function so it returns summary instead of predicted values\n",
    "linear_regression(features,turnstile_weather['ENTRIESn_hourly'])\n"
   ]
  },
  {
   "cell_type": "code",
   "execution_count": 12,
   "metadata": {
    "collapsed": false
   },
   "outputs": [],
   "source": [
    "#add predictions into new data frame\n",
    "actual = turnstile_weather['ENTRIESn_hourly']\n",
    "predicted = predictions(turnstile_weather)\n",
    "\n",
    "turnstile_weather['x'] = turnstile_weather.index\n",
    "new_df = turnstile_weather\n",
    "new_df['predicted'] = predicted\n",
    "new_df['actual'] = actual\n",
    "new_df['residual'] = actual - predicted"
   ]
  },
  {
   "cell_type": "code",
   "execution_count": null,
   "metadata": {
    "collapsed": false
   },
   "outputs": [],
   "source": [
    "#How well does this model work?\n",
    "#compare actual to predicted entries\n",
    "\n",
    "compare_df = pd.melt(new_df, id_vars=['x'], value_vars=['actual', 'predicted'], var_name='val_type', value_name='values')\n",
    "\n",
    "ggplot(compare_df, aes(x='x',y='values', color='val_type')) +\\\n",
    "       geom_point(size=.5, alpha=.7) +\\\n",
    "       xlab('Remote unit readings') +\\\n",
    "       ylab('Entries') +\\\n",
    "       ggtitle(\"Actual vs Predicted Hourly Entries\")\n",
    "\n",
    "\n"
   ]
  },
  {
   "cell_type": "code",
   "execution_count": 21,
   "metadata": {
    "collapsed": false
   },
   "outputs": [
    {
     "data": {
      "text/plain": [
       "<ggplot: (286238853)>"
      ]
     },
     "execution_count": 21,
     "metadata": {},
     "output_type": "execute_result"
    }
   ],
   "source": [
    "#Plot the residuals against fitted values\n",
    "fit_resid_plot = ggplot(new_df, aes('predicted','residual')) +\\\n",
    "                geom_point(size=.5, colour = 'red') +\\\n",
    "                ggtitle('Residuals vs Predicted Values')\n",
    "fit_resid_plot"
   ]
  },
  {
   "cell_type": "code",
   "execution_count": 28,
   "metadata": {
    "collapsed": false
   },
   "outputs": [
    {
     "name": "stdout",
     "output_type": "stream",
     "text": [
      "2180.07529143\n",
      "1990.89125409\n",
      "2952.35097201\n"
     ]
    }
   ],
   "source": [
    "#model checking: is std dev of model = std dev of residuals? \n",
    "print np.std(new_df['predicted'])\n",
    "print np.std(new_df['residual'])\n",
    "print np.std(new_df['actual'])"
   ]
  },
  {
   "cell_type": "code",
   "execution_count": 26,
   "metadata": {
    "collapsed": false
   },
   "outputs": [
    {
     "data": {
      "text/plain": [
       "<ggplot: (286180993)>"
      ]
     },
     "execution_count": 26,
     "metadata": {},
     "output_type": "execute_result"
    }
   ],
   "source": [
    "#plot residuals against data points\n",
    "points_resid = ggplot(new_df, aes('x', 'residual')) +\\\n",
    "                geom_point(size = 3, colour = 'blue') +\\\n",
    "    ggtitle('Residuals vs Data Points')\n",
    "\n",
    "points_resid"
   ]
  },
  {
   "cell_type": "code",
   "execution_count": 16,
   "metadata": {
    "collapsed": false
   },
   "outputs": [
    {
     "data": {
      "text/plain": [
       "<ggplot: (285353713)>"
      ]
     },
     "execution_count": 16,
     "metadata": {},
     "output_type": "execute_result"
    }
   ],
   "source": [
    "#plot residuals against independant variable\n",
    "#temperature\n",
    "\n",
    "tempi_resid = ggplot(new_df, aes('tempi', 'residual')) +\\\n",
    "                geom_point(size = 1, colour = 'red') +\\\n",
    "    ggtitle('Residuals vs Temperature (Independant Variable)')\n",
    "\n",
    "tempi_resid\n"
   ]
  },
  {
   "cell_type": "code",
   "execution_count": 16,
   "metadata": {
    "collapsed": false
   },
   "outputs": [
    {
     "data": {
      "text/plain": [
       "<ggplot: (284317837)>"
      ]
     },
     "execution_count": 16,
     "metadata": {},
     "output_type": "execute_result"
    }
   ],
   "source": [
    "#day of week\n",
    "day_resid = ggplot(new_df, aes('day_week', 'residual')) +\\\n",
    "                geom_point(size = 3, colour = 'red') +\\\n",
    "    ggtitle('Residuals vs Day of Week (Independant Variable)')\n",
    "\n",
    "day_resid"
   ]
  },
  {
   "cell_type": "code",
   "execution_count": 17,
   "metadata": {
    "collapsed": false
   },
   "outputs": [
    {
     "data": {
      "text/plain": [
       "<ggplot: (282876025)>"
      ]
     },
     "execution_count": 17,
     "metadata": {},
     "output_type": "execute_result"
    }
   ],
   "source": [
    "#hour of day\n",
    "hour_resid = ggplot(new_df, aes('hour', 'residual')) +\\\n",
    "                geom_point(size = 3, colour = 'red') +\\\n",
    "    ggtitle('Residuals vs Hour of Day (Independant Variable)')\n",
    "\n",
    "hour_resid"
   ]
  },
  {
   "cell_type": "code",
   "execution_count": 19,
   "metadata": {
    "collapsed": false
   },
   "outputs": [
    {
     "data": {
      "text/plain": [
       "<ggplot: (284512329)>"
      ]
     },
     "execution_count": 19,
     "metadata": {},
     "output_type": "execute_result"
    }
   ],
   "source": [
    "#remote unit\n",
    "#convert to float-able\n",
    "\n",
    "ru = new_df['UNIT']\n",
    "ru = ru.str.replace('R','')\n",
    "new_df['ru'] = ru\n",
    "\n",
    "unit_resid = ggplot(new_df, aes('ru', 'residual')) +\\\n",
    "                geom_point(size = 3, colour = 'red') +\\\n",
    "    ggtitle('Residuals vs Remote Unit (Independant Variable)')\n",
    "\n",
    "unit_resid"
   ]
  },
  {
   "cell_type": "code",
   "execution_count": 42,
   "metadata": {
    "collapsed": false
   },
   "outputs": [],
   "source": [
    "#Are the residuals a normal distribution?\n",
    "\n",
    "import scipy\n",
    "import matplotlib.pyplot as plt\n",
    "\n",
    "\n",
    "\n",
    "plt.figure()\n",
    "(new_df['residual']).hist(bins=150, label = 'Residuals', color='red', edgecolor = 'blue')\n",
    "plt.draw()\n",
    "plt.show()\n",
    "\n"
   ]
  },
  {
   "cell_type": "code",
   "execution_count": 23,
   "metadata": {
    "collapsed": false
   },
   "outputs": [],
   "source": [
    "#Better way to check distribution of residuals: use a probability plot\n",
    "import pylab \n",
    "import scipy.stats as stats\n",
    "\n",
    "np.random.seed(124)\n",
    "\n",
    "measurements = new_df['residual']  \n",
    "#sample = np.random.choice(measurements, size=10000, replace=True, p=None)\n",
    "#measurements = np.random.normal(loc = 20, scale = 5, size=100)   \n",
    "stats.probplot(measurements, dist=\"norm\", plot=pylab)\n",
    "pylab.show()"
   ]
  }
 ],
 "metadata": {
  "kernelspec": {
   "display_name": "Python 2",
   "language": "python",
   "name": "python2"
  },
  "language_info": {
   "codemirror_mode": {
    "name": "ipython",
    "version": 2
   },
   "file_extension": ".py",
   "mimetype": "text/x-python",
   "name": "python",
   "nbconvert_exporter": "python",
   "pygments_lexer": "ipython2",
   "version": "2.7.11"
  }
 },
 "nbformat": 4,
 "nbformat_minor": 0
}
