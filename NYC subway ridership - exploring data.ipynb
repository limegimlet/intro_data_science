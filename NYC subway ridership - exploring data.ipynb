{
 "cells": [
  {
   "cell_type": "code",
   "execution_count": 4,
   "metadata": {
    "collapsed": false
   },
   "outputs": [],
   "source": [
    "import numpy as np\n",
    "import pandas \n",
    "import statsmodels.api as sm\n",
    "import datetime as dt\n",
    "from ggplot import *\n",
    "import matplotlib.pyplot as plt"
   ]
  },
  {
   "cell_type": "code",
   "execution_count": 5,
   "metadata": {
    "collapsed": false
   },
   "outputs": [
    {
     "data": {
      "text/plain": [
       "1230     1\n",
       "1306     1\n",
       "1355     0\n",
       "2529     1\n",
       "2565     0\n",
       "2571     0\n",
       "2577     0\n",
       "2601     1\n",
       "2613     1\n",
       "2619     1\n",
       "2643     0\n",
       "2649     0\n",
       "2655     0\n",
       "2893     0\n",
       "2911     0\n",
       "2947     0\n",
       "2995     1\n",
       "3025     0\n",
       "11586    1\n",
       "11622    0\n",
       "11634    0\n",
       "Name: rain, dtype: int64"
      ]
     },
     "execution_count": 5,
     "metadata": {},
     "output_type": "execute_result"
    }
   ],
   "source": [
    "#create dataframe\n",
    "turnstile_weather = pandas.read_csv('~/Documents/ds_nanodegree/intro_to_ds_downloads/turnstile_weather_v2.csv')\n",
    "\n",
    "#extract day from date\n",
    "turnstile_weather['DT'] = pandas.to_datetime(turnstile_weather['datetime'])\n",
    "turnstile_weather['day'] = turnstile_weather['DT'].dt.day\n",
    "\n",
    "#flag the long weekends - in this case, Memorial Day\n",
    "turnstile_weather['longWE'] = np.where(turnstile_weather['day'].isin([28,29,30]), 1, 0)\n",
    "\n",
    "#top 10 stations for highest avg hourly entries\n",
    "\n",
    "\n",
    "outliers=turnstile_weather[turnstile_weather.ENTRIESn_hourly > 30000]\n",
    "outliers['rain']"
   ]
  },
  {
   "cell_type": "code",
   "execution_count": null,
   "metadata": {
    "collapsed": true
   },
   "outputs": [],
   "source": [
    "# outliers.ENTRIESn.describe(0)"
   ]
  },
  {
   "cell_type": "code",
   "execution_count": 16,
   "metadata": {
    "collapsed": false
   },
   "outputs": [
    {
     "name": "stdout",
     "output_type": "stream",
     "text": [
      "n for rain: 9585\n",
      "n for non-rain: 33064\n",
      "939.0\n",
      "893.0\n"
     ]
    }
   ],
   "source": [
    "rainy = turnstile_weather[turnstile_weather.rain==1]\n",
    "non_rainy = turnstile_weather[turnstile_weather.rain==0]\n",
    "n_rainy = len(rainy)\n",
    "n_non_rainy = len(non_rainy)\n",
    "print 'n for rain: ' + str(n_rainy)\n",
    "print 'n for non-rain: ' + str(n_non_rainy)\n",
    "print np.median(rainy['ENTRIESn_hourly'])\n",
    "print np.median(non_rainy['ENTRIESn_hourly'])"
   ]
  },
  {
   "cell_type": "code",
   "execution_count": 5,
   "metadata": {
    "collapsed": false
   },
   "outputs": [
    {
     "data": {
      "text/plain": [
       "'p = ggplot(turnstile_weather, aes(x=\\'ENTRIESn_hourly\\', fill=\\'rain\\'))\\nrainHist = p + geom_histogram() + ggtitle(\"Distribution of Hourly Entries for Rainy & Non-rainy Days\") + xlab(\"Hourly Entries\") + ylab(\"Frequency\")\\n\\nrainHist'"
      ]
     },
     "execution_count": 5,
     "metadata": {},
     "output_type": "execute_result"
    }
   ],
   "source": [
    "#rainy vs non-rainy histogram\n",
    "\n",
    "#set font sizes\n",
    "font = {'family' : 'normal',\n",
    "        'weight' : 'bold',\n",
    "        'size'   : 10}\n",
    "\n",
    "plt.rc('font', **font)\n",
    "\n",
    "#matplotlib\n",
    "plt.figure()\n",
    "turnstile_weather[turnstile_weather.rain==0].ENTRIESn_hourly.hist(bins=70, label='Non-rainy', color='coral')\n",
    "turnstile_weather[turnstile_weather.rain==1].ENTRIESn_hourly.hist(bins=70, label = 'Rainy', color='lightskyblue', alpha=0.8)\n",
    "plt.xlabel('ENTRIESn_hourly') \n",
    "plt.ylabel('Frequency')\n",
    "plt.title('Hourly Entries on Rainy & Non-Rainy Days')\n",
    "plt.legend(loc='upper right')\n",
    "plt.show()\n",
    "\n",
    "\n",
    "#ggplot historgram: there's a bug with binwidth\n",
    "'''p = ggplot(turnstile_weather, aes(x='ENTRIESn_hourly', fill='rain'))\n",
    "rainHist = p + geom_histogram() + \\\n",
    "ggtitle(\"Distribution of Hourly Entries for Rainy & Non-rainy Days\") + \\\n",
    "xlab(\"Hourly Entries\") + ylab(\"Frequency\")\n",
    "\n",
    "rainHist'''"
   ]
  },
  {
   "cell_type": "code",
   "execution_count": 91,
   "metadata": {
    "collapsed": false
   },
   "outputs": [
    {
     "data": {
      "text/plain": [
       "<ggplot: (320070761)>"
      ]
     },
     "execution_count": 91,
     "metadata": {},
     "output_type": "execute_result"
    }
   ],
   "source": [
    "#getting all fancy with scatterplots\n",
    "\n",
    "#rain\n",
    "scatter_rain = ggplot(turnstile_weather, aes(x='precipi', y='ENTRIESn_hourly', color='precipi')) +\\\n",
    "    geom_point() + ylim(0,35000) +\\\n",
    "    scale_colour_gradient2(low=\"lightblue\", high=\"darkblue\") +\\\n",
    "    xlab(\"Precipitation (inches)\") + ylab(\"Hourly Entries\") + ggtitle(\"Does Rain impact Entries?\")\n",
    "\n",
    "scatter_rain\n",
    "\n",
    "#wind\n",
    "\n",
    "#scatter_wind = ggplot(turnstile_weather, aes(x='wspdi', y='ENTRIESn_hourly', color='wspdi')) +\\\n",
    "    #geom_point() + ylim(0,35000) +\\\n",
    "    #scale_colour_gradient2(low=\"lightpink\", high=\"crimson\") +\\\n",
    "    #xlab(\"Wind speed\") + ylab(\"Hourly Entries\") + ggtitle(\"Does Wind Speed impact Entries?\")\n",
    "\n",
    "\n",
    "#scatter_wind"
   ]
  },
  {
   "cell_type": "code",
   "execution_count": null,
   "metadata": {
    "collapsed": false
   },
   "outputs": [],
   "source": [
    "scatter_tempi = ggplot(turnstile_weather, aes(x='tempi', y='ENTRIESn_hourly', color='tempi')) +\\\n",
    "    geom_point() + ylim(0,35000) +\\\n",
    "    scale_colour_gradient2(low=\"lightblue\", high=\"coral\")  +\\\n",
    "    xlab(\"Temp (F)\") + ylab(\"Hourly Entries\") + ggtitle(\"Does Temperature impact Entries?\")\n",
    "\n",
    "scatter_tempi"
   ]
  },
  {
   "cell_type": "code",
   "execution_count": null,
   "metadata": {
    "collapsed": false
   },
   "outputs": [],
   "source": [
    "#Visualize weekly traffic pattern\n",
    "newdates = pandas.to_datetime(turnstile_weather['DATEn'], format=\"%m-%d-%y\")\n",
    "turnstile_weather['newdates'] = newdates\n",
    "turnstile_weather['weekday'] = turnstile_weather['newdates'].dt.dayofweek\n",
    "\n",
    "\n",
    "#for abbreviated days of week on x-axis\n",
    "label_list = ['' , 'Mon', 'Tue', 'Wed', 'Thu', 'Fri', 'Sat', 'Sun']\n",
    "   \n",
    "\n",
    "#average hourly entries by day of week\n",
    "#by_weekday = turnstile_weather.groupby('weekday', as_index = False).mean()\n",
    "wdRain = turnstile_weather[turnstile_weather['rain']==1].groupby('day_week', as_index = False).mean()\n",
    "wdNoRain = turnstile_weather[turnstile_weather['rain']==0].groupby('day_week', as_index = False).mean()\n",
    "\n",
    "plot = ggplot(wdRain, aes('day_week', 'ENTRIESn_hourly', width=.75)) + \\\n",
    "    geom_bar(stat='identity', fill='steelblue', alpha=0.5) + xlim(-.5,6.5) + ylim(0,3000) +\\\n",
    "    ggtitle(\"Average Hourly Entries by Weekday\") + scale_x_discrete(labels=label_list) + \\\n",
    "    xlab(\"Day of Week: blue bars = rain; black dot = no rain\") + ylab(\"Average hourly entries\") +\\\n",
    "    geom_point(wdNoRain)\n",
    "\n",
    "plot\n"
   ]
  },
  {
   "cell_type": "code",
   "execution_count": 88,
   "metadata": {
    "collapsed": false
   },
   "outputs": [
    {
     "data": {
      "text/plain": [
       "<ggplot: (325084105)>"
      ]
     },
     "execution_count": 88,
     "metadata": {},
     "output_type": "execute_result"
    }
   ],
   "source": [
    "#average hourly entries by hour\n",
    "\n",
    "hourRain = turnstile_weather[turnstile_weather['rain']==1].groupby('hour', as_index = False).mean()\n",
    "hourNoRain = turnstile_weather[turnstile_weather['rain']==0].groupby('hour', as_index = False).mean()\n",
    "\n",
    "hplot = ggplot(hourRain, aes('hour', 'ENTRIESn_hourly', width=.5)) + \\\n",
    "    geom_bar(stat='identity', fill='steelblue', alpha=0.5) +\\\n",
    "    ggtitle(\"Average Hourly Entries by Time of Day\") + xlim(-.5,24.5) + ylim(0,4000) +\\\n",
    "    xlab(\"Hour of Day: blue bars = rain; black dot = no rain\") + ylab(\"Average hourly entries\") +\\\n",
    "    geom_point(hourNoRain)\n",
    "\n",
    "hplot\n",
    "\n"
   ]
  },
  {
   "cell_type": "code",
   "execution_count": 18,
   "metadata": {
    "collapsed": false
   },
   "outputs": [
    {
     "data": {
      "text/plain": [
       "<ggplot: (280944261)>"
      ]
     },
     "execution_count": 18,
     "metadata": {},
     "output_type": "execute_result"
    }
   ],
   "source": [
    "#combine on one plot?\n",
    "label_list2 = ['Mon', 'Tue', 'Wed', 'Thu', 'Fri', 'Sat', 'Sun', '']\n",
    "\n",
    "wdplot = ggplot(wdRain, aes('weekday', 'ENTRIESn_hourly')) + xlim(0,7) + \\\n",
    "    geom_step(color='blue')  + scale_x_discrete(labels=label_list2) #+\\\n",
    "    #geom_step(wdNoRain, aes('weekday', 'ENTRIESn_hourly')) \n",
    "wdplot"
   ]
  },
  {
   "cell_type": "code",
   "execution_count": null,
   "metadata": {
    "collapsed": false
   },
   "outputs": [],
   "source": [
    "box = turnstile_weather.boxplot(column = 'ENTRIESn_hourly', by = 'rain', return_type='dict', grid=True)\n",
    "plt.ylim(-5000,10000)\n",
    "#plt.ylim(-5000,35000)\n",
    "plt.show(box)"
   ]
  },
  {
   "cell_type": "code",
   "execution_count": 17,
   "metadata": {
    "collapsed": false
   },
   "outputs": [
    {
     "data": {
      "text/plain": [
       "count    33064.000000\n",
       "mean      1845.539439\n",
       "std       2878.770848\n",
       "min          0.000000\n",
       "25%        269.000000\n",
       "50%        893.000000\n",
       "75%       2197.000000\n",
       "max      32814.000000\n",
       "Name: ENTRIESn_hourly, dtype: float64"
      ]
     },
     "execution_count": 17,
     "metadata": {},
     "output_type": "execute_result"
    }
   ],
   "source": [
    "turnstile_weather.ENTRIESn_hourly[turnstile_weather.rain==0].describe()"
   ]
  },
  {
   "cell_type": "code",
   "execution_count": 10,
   "metadata": {
    "collapsed": false
   },
   "outputs": [
    {
     "data": {
      "text/plain": [
       "count     9585.000000\n",
       "mean      2028.196035\n",
       "std       3189.433373\n",
       "min          0.000000\n",
       "25%        295.000000\n",
       "50%        939.000000\n",
       "75%       2424.000000\n",
       "max      32289.000000\n",
       "Name: ENTRIESn_hourly, dtype: float64"
      ]
     },
     "execution_count": 10,
     "metadata": {},
     "output_type": "execute_result"
    }
   ],
   "source": [
    "turnstile_weather.ENTRIESn_hourly[turnstile_weather.rain==1].describe()"
   ]
  },
  {
   "cell_type": "code",
   "execution_count": null,
   "metadata": {
    "collapsed": true
   },
   "outputs": [],
   "source": []
  }
 ],
 "metadata": {
  "kernelspec": {
   "display_name": "Python 2",
   "language": "python",
   "name": "python2"
  },
  "language_info": {
   "codemirror_mode": {
    "name": "ipython",
    "version": 2
   },
   "file_extension": ".py",
   "mimetype": "text/x-python",
   "name": "python",
   "nbconvert_exporter": "python",
   "pygments_lexer": "ipython2",
   "version": "2.7.11"
  }
 },
 "nbformat": 4,
 "nbformat_minor": 0
}
